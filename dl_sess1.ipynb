{
  "nbformat": 4,
  "nbformat_minor": 0,
  "metadata": {
    "colab": {
      "name": "dl_sess1.ipynb",
      "provenance": [],
      "authorship_tag": "ABX9TyP9F7EmfJtlf7pZUivVeZCu",
      "include_colab_link": true
    },
    "kernelspec": {
      "name": "python3",
      "display_name": "Python 3"
    }
  },
  "cells": [
    {
      "cell_type": "markdown",
      "metadata": {
        "id": "view-in-github",
        "colab_type": "text"
      },
      "source": [
        "<a href=\"https://colab.research.google.com/github/ARAbhi4/Colab/blob/main/dl_sess1.ipynb\" target=\"_parent\"><img src=\"https://colab.research.google.com/assets/colab-badge.svg\" alt=\"Open In Colab\"/></a>"
      ]
    },
    {
      "cell_type": "code",
      "metadata": {
        "id": "BCngAwZJC7La"
      },
      "source": [
        "x = [-1.0, 0.0, 1.0, 2.0, 3.0, 4.0]\r\n",
        "y = [-3.0,-1.0, 1.0, 3.0, 5.0, 7.0]"
      ],
      "execution_count": 5,
      "outputs": []
    },
    {
      "cell_type": "code",
      "metadata": {
        "colab": {
          "base_uri": "https://localhost:8080/"
        },
        "id": "e_G99b1sDgaf",
        "outputId": "74063c7e-dce8-40ab-8495-2a376437740b"
      },
      "source": [
        "y_gen = []\r\n",
        "for i in x:\r\n",
        "  y_gen.append(i*1.40)\r\n",
        "y_gen"
      ],
      "execution_count": 6,
      "outputs": [
        {
          "output_type": "execute_result",
          "data": {
            "text/plain": [
              "[-1.4, 0.0, 1.4, 2.8, 4.199999999999999, 5.6]"
            ]
          },
          "metadata": {
            "tags": []
          },
          "execution_count": 6
        }
      ]
    },
    {
      "cell_type": "code",
      "metadata": {
        "colab": {
          "base_uri": "https://localhost:8080/"
        },
        "id": "hg01ELTCEKVn",
        "outputId": "7e64aa6a-34e6-4439-caaa-68ce7f72c6ae"
      },
      "source": [
        "from sklearn.metrics import r2_score\r\n",
        "y_gen_score = r2_score(y,y_gen)\r\n",
        "y_gen_score"
      ],
      "execution_count": 27,
      "outputs": [
        {
          "output_type": "execute_result",
          "data": {
            "text/plain": [
              "0.9091428571428571"
            ]
          },
          "metadata": {
            "tags": []
          },
          "execution_count": 27
        }
      ]
    },
    {
      "cell_type": "code",
      "metadata": {
        "colab": {
          "base_uri": "https://localhost:8080/",
          "height": 265
        },
        "id": "4MItQQLMEude",
        "outputId": "02152d8c-cb1f-445b-8cc2-344238102a4b"
      },
      "source": [
        "import matplotlib.pyplot as plt\r\n",
        "plt.scatter(x,y,color= 'red')\r\n",
        "plt.plot(x,y_gen, color = 'green')\r\n",
        "plt.show()"
      ],
      "execution_count": 10,
      "outputs": [
        {
          "output_type": "display_data",
          "data": {
            "image/png": "[encoded data removed]",
            "text/plain": [
              "<Figure size 432x288 with 1 Axes>"
            ]
          },
          "metadata": {
            "tags": [],
            "needs_background": "light"
          }
        }
      ]
    },
    {
      "cell_type": "code",
      "metadata": {
        "colab": {
          "base_uri": "https://localhost:8080/"
        },
        "id": "8ezsNC8aFRum",
        "outputId": "6ded611f-c102-4f25-d67a-79d90d398b2e"
      },
      "source": [
        "import statsmodels.api as sm \r\n",
        "model = sm.OLS(y,x)\r\n",
        "result = model.fit()\r\n",
        "print(result.summary())"
      ],
      "execution_count": 9,
      "outputs": [
        {
          "output_type": "stream",
          "text": [
            "                                 OLS Regression Results                                \n",
            "=======================================================================================\n",
            "Dep. Variable:                      y   R-squared (uncentered):                   0.964\n",
            "Model:                            OLS   Adj. R-squared (uncentered):              0.957\n",
            "Method:                 Least Squares   F-statistic:                              133.8\n",
            "Date:                Fri, 05 Mar 2021   Prob (F-statistic):                    8.48e-05\n",
            "Time:                        06:35:20   Log-Likelihood:                         -6.7983\n",
            "No. Observations:                   6   AIC:                                      15.60\n",
            "Df Residuals:                       5   BIC:                                      15.39\n",
            "Df Model:                           1                                                  \n",
            "Covariance Type:            nonrobust                                                  \n",
            "==============================================================================\n",
            "                 coef    std err          t      P>|t|      [0.025      0.975]\n",
            "------------------------------------------------------------------------------\n",
            "x1             1.7097      0.148     11.566      0.000       1.330       2.090\n",
            "==============================================================================\n",
            "Omnibus:                          nan   Durbin-Watson:                   0.124\n",
            "Prob(Omnibus):                    nan   Jarque-Bera (JB):                0.402\n",
            "Skew:                           0.000   Prob(JB):                        0.818\n",
            "Kurtosis:                       1.731   Cond. No.                         1.00\n",
            "==============================================================================\n",
            "\n",
            "Warnings:\n",
            "[1] Standard Errors assume that the covariance matrix of the errors is correctly specified.\n"
          ],
          "name": "stdout"
        },
        {
          "output_type": "stream",
          "text": [
            "/usr/local/lib/python3.7/dist-packages/statsmodels/stats/stattools.py:71: ValueWarning: omni_normtest is not valid with less than 8 observations; 6 samples were given.\n",
            "  \"samples were given.\" % int(n), ValueWarning)\n"
          ],
          "name": "stderr"
        }
      ]
    },
    {
      "cell_type": "code",
      "metadata": {
        "colab": {
          "base_uri": "https://localhost:8080/",
          "height": 35
        },
        "id": "qibGxPR9FzAG",
        "outputId": "f53aa046-05b1-47b1-be04-d1f478e0d134"
      },
      "source": [
        "import tensorflow\r\n",
        "tensorflow.__version__"
      ],
      "execution_count": 12,
      "outputs": [
        {
          "output_type": "execute_result",
          "data": {
            "application/vnd.google.colaboratory.intrinsic+json": {
              "type": "string"
            },
            "text/plain": [
              "'2.4.1'"
            ]
          },
          "metadata": {
            "tags": []
          },
          "execution_count": 12
        }
      ]
    },
    {
      "cell_type": "code",
      "metadata": {
        "id": "bBNbrbWzGdpW"
      },
      "source": [
        "from tensorflow.keras import Sequential, layers\r\n",
        "model = Sequential()\r\n",
        "model.add(layers.Dense(1,input_shape =[1]))\r\n",
        "model.compile(optimizer='sgd', loss = 'mean_squared_error')\r\n",
        "model.fit(x,y,epochs = 1000)"
      ],
      "execution_count": null,
      "outputs": []
    },
    {
      "cell_type": "code",
      "metadata": {
        "colab": {
          "base_uri": "https://localhost:8080/"
        },
        "id": "pMbPrB30He3l",
        "outputId": "2217479e-8621-4da0-ad55-49361ef8f57b"
      },
      "source": [
        "y_dl = model.predict(x)\r\n",
        "y_dl"
      ],
      "execution_count": 25,
      "outputs": [
        {
          "output_type": "stream",
          "text": [
            "WARNING:tensorflow:5 out of the last 5 calls to <function Model.make_predict_function.<locals>.predict_function at 0x7f44eb60cf80> triggered tf.function retracing. Tracing is expensive and the excessive number of tracings could be due to (1) creating @tf.function repeatedly in a loop, (2) passing tensors with different shapes, (3) passing Python objects instead of tensors. For (1), please define your @tf.function outside of the loop. For (2), @tf.function has experimental_relax_shapes=True option that relaxes argument shapes that can avoid unnecessary retracing. For (3), please refer to https://www.tensorflow.org/guide/function#controlling_retracing and https://www.tensorflow.org/api_docs/python/tf/function for  more details.\n"
          ],
          "name": "stdout"
        },
        {
          "output_type": "execute_result",
          "data": {
            "text/plain": [
              "array([[-2.9999177 ],\n",
              "       [-0.99993783],\n",
              "       [ 1.000042  ],\n",
              "       [ 3.000022  ],\n",
              "       [ 5.0000014 ],\n",
              "       [ 6.9999814 ]], dtype=float32)"
            ]
          },
          "metadata": {
            "tags": []
          },
          "execution_count": 25
        }
      ]
    },
    {
      "cell_type": "code",
      "metadata": {
        "colab": {
          "base_uri": "https://localhost:8080/"
        },
        "id": "7XzEWQ4-HnVW",
        "outputId": "7bd46f3e-0135-4e55-fa75-b366eb32640b"
      },
      "source": [
        "r2_score(y,y_dl)"
      ],
      "execution_count": 26,
      "outputs": [
        {
          "output_type": "execute_result",
          "data": {
            "text/plain": [
              "0.9999999998111373"
            ]
          },
          "metadata": {
            "tags": []
          },
          "execution_count": 26
        }
      ]
    },
    {
      "cell_type": "code",
      "metadata": {
        "colab": {
          "base_uri": "https://localhost:8080/",
          "height": 265
        },
        "id": "5a2hEKrHHrBG",
        "outputId": "907d2041-a86c-4207-a159-7452a8de2551"
      },
      "source": [
        "plt.scatter(x,y,color = 'red')\r\n",
        "plt.plot(x,y_dl, color = 'green')\r\n",
        "plt.show()"
      ],
      "execution_count": 29,
      "outputs": [
        {
          "output_type": "display_data",
          "data": {
            "image/png": "[encoded data removed]",
            "text/plain": [
              "<Figure size 432x288 with 1 Axes>"
            ]
          },
          "metadata": {
            "tags": [],
            "needs_background": "light"
          }
        }
      ]
    }
  ]
}